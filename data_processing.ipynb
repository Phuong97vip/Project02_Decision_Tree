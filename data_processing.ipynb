{
 "cells": [
  {
   "cell_type": "code",
   "execution_count": 2,
   "id": "b7f5bdea",
   "metadata": {},
   "outputs": [],
   "source": [
    "import pandas as pd\n"
   ]
  },
  {
   "cell_type": "code",
   "execution_count": 4,
   "id": "6b3176e6",
   "metadata": {},
   "outputs": [],
   "source": [
    "stress_data = pd.read_csv('raw_data/Sleep_health_and_lifestyle_dataset.csv')\n",
    "heart_data = pd.read_csv('raw_data/heart.csv')\n",
    "penguins_data = pd.read_csv('raw_data/penguins_lter.csv')\n",
    "def clean_dataset(df, name):\n",
    "    print(f\"\\nCleaning dataset: {name}\")\n",
    "    print(f\"Original shape: {df.shape}\")\n",
    "    \n",
    "    # Xóa dòng trùng lặp\n",
    "    df_clean = df.drop_duplicates()\n",
    "    print(f\"After removing duplicates: {df_clean.shape}\")\n",
    "    \n",
    "    # Xóa dòng có bất kỳ giá trị trống nào\n",
    "    df_clean = df_clean.dropna()\n",
    "    print(f\"After removing rows with missing values: {df_clean.shape}\")\n",
    "    \n",
    "    return df_clean\n"
   ]
  },
  {
   "cell_type": "code",
   "execution_count": 5,
   "id": "4fcc70e8",
   "metadata": {},
   "outputs": [
    {
     "name": "stdout",
     "output_type": "stream",
     "text": [
      "\n",
      "Cleaning dataset: Sleep Health and Lifestyle\n",
      "Original shape: (374, 13)\n",
      "After removing duplicates: (374, 13)\n",
      "After removing rows with missing values: (155, 13)\n",
      "\n",
      "Cleaning dataset: Heart Disease\n",
      "Original shape: (1025, 14)\n",
      "After removing duplicates: (302, 14)\n",
      "After removing rows with missing values: (302, 14)\n",
      "\n",
      "Cleaning dataset: Penguins\n",
      "Original shape: (344, 17)\n",
      "After removing duplicates: (344, 17)\n",
      "After removing rows with missing values: (13, 17)\n"
     ]
    }
   ],
   "source": [
    "# Làm sạch từng dataset\n",
    "stress_clean = clean_dataset(stress_data, \"Sleep Health and Lifestyle\")\n",
    "heart_clean = clean_dataset(heart_data, \"Heart Disease\")\n",
    "penguins_clean = clean_dataset(penguins_data, \"Penguins\")\n",
    "\n",
    "# Lưu datasets đã làm sạch (tùy chọn)\n",
    "stress_clean.to_csv('clean_data/cleaned_stress_data.csv', index=False)\n",
    "heart_clean.to_csv('clean_data/cleaned_heart_data.csv', index=False)\n",
    "penguins_clean.to_csv('clean_data/cleaned_penguins_data.csv', index=False)"
   ]
  },
  {
   "cell_type": "code",
   "execution_count": 8,
   "id": "b8ed9c70",
   "metadata": {},
   "outputs": [
    {
     "name": "stdout",
     "output_type": "stream",
     "text": [
      "   Person ID  Stress Level Stress Level Category\n",
      "0          4             8                  High\n",
      "1          5             8                  High\n",
      "2          6             8                  High\n",
      "3          7             7                  High\n",
      "4         17             7                  High\n",
      "5         18             8                  High\n",
      "6         19             7                  High\n",
      "7         31             7                  High\n",
      "8         32             7                  High\n",
      "9         50             6                Medium\n"
     ]
    }
   ],
   "source": [
    "import pandas as pd\n",
    "\n",
    "# Đọc dữ liệu\n",
    "stress_data = pd.read_csv('clean_data/cleaned_stress_data.csv')\n",
    "\n",
    "# Xác định ngưỡng chia stress level\n",
    "def categorize_stress(level):\n",
    "    if level <= 3:\n",
    "        return 'Low'\n",
    "    elif 4 <= level <= 6:\n",
    "        return 'Medium'\n",
    "    else:  # 7-10\n",
    "        return 'High'\n",
    "\n",
    "# Áp dụng hàm chuyển đổi\n",
    "stress_data['Stress Level Category'] = stress_data['Stress Level'].apply(categorize_stress)\n",
    "\n",
    "# Kiểm tra kết quả\n",
    "print(stress_data[['Person ID', 'Stress Level', 'Stress Level Category']].head(10))\n",
    "\n",
    "# Lưu dữ liệu đã chỉnh sửa (nếu cần)\n",
    "stress_data.to_csv('clean_data/cleaned_stress_data.csv', index=False)"
   ]
  }
 ],
 "metadata": {
  "kernelspec": {
   "display_name": "Python 3",
   "language": "python",
   "name": "python3"
  },
  "language_info": {
   "codemirror_mode": {
    "name": "ipython",
    "version": 3
   },
   "file_extension": ".py",
   "mimetype": "text/x-python",
   "name": "python",
   "nbconvert_exporter": "python",
   "pygments_lexer": "ipython3",
   "version": "3.13.2"
  }
 },
 "nbformat": 4,
 "nbformat_minor": 5
}
